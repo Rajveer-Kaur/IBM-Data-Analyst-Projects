{
 "cells": [
  {
   "cell_type": "markdown",
   "id": "74466356-6758-4f74-b4ab-eff2df6e5ec5",
   "metadata": {},
   "source": [
    "<p style=\"text-align:center\">\n",
    "    <a href=\"https://skills.network\" target=\"_blank\">\n",
    "    <img src=\"https://cf-courses-data.s3.us.cloud-object-storage.appdomain.cloud/assets/logos/SN_web_lightmode.png\" width=\"200\" alt=\"Skills Network Logo\"  />\n",
    "    </a>\n",
    "</p>\n"
   ]
  },
  {
   "cell_type": "markdown",
   "id": "464a71fb-cf81-4e95-8210-e5e8ea156b22",
   "metadata": {},
   "source": [
    "# **Impute Missing Values**\n"
   ]
  },
  {
   "cell_type": "markdown",
   "id": "b1d346b4-f16b-4c56-a270-eb247487501a",
   "metadata": {},
   "source": [
    "Estimated time needed: **30** minutes\n"
   ]
  },
  {
   "cell_type": "markdown",
   "id": "c0c663ee-ce4e-451b-841d-b9e8ceb1a52c",
   "metadata": {},
   "source": [
    "In this lab, you will practice essential data wrangling techniques using the Stack Overflow survey dataset. The primary focus is on handling missing data and ensuring data quality. You will:\n",
    "\n",
    "- **Load the Data:** Import the dataset into a DataFrame using the pandas library.\n",
    "\n",
    "- **Clean the Data:** Identify and remove duplicate entries to maintain data integrity.\n",
    "\n",
    "- **Handle Missing Values:** Detect missing values, impute them with appropriate strategies, and verify the imputation to create a complete and reliable dataset for analysis.\n",
    "\n",
    "This lab equips you with the skills to effectively preprocess and clean real-world datasets, a crucial step in any data analysis project.\n"
   ]
  },
  {
   "cell_type": "markdown",
   "id": "ddd8c293-0565-4401-9e54-f9ea086d3113",
   "metadata": {},
   "source": [
    "## Objectives\n"
   ]
  },
  {
   "cell_type": "markdown",
   "id": "f8f48484-7179-4b2f-ad7f-24560fa0651c",
   "metadata": {},
   "source": [
    "In this lab, you will perform the following:\n"
   ]
  },
  {
   "cell_type": "markdown",
   "id": "16274089-f272-46f1-a2da-7eb42d0372a0",
   "metadata": {},
   "source": [
    "-   Identify missing values in the dataset.\n",
    "\n",
    "-   Apply techniques to impute missing values in the dataset.\n",
    "  \n",
    "-   Use suitable techniques to normalize data in the dataset.\n"
   ]
  },
  {
   "cell_type": "markdown",
   "id": "b6ed5515-0b50-4aa3-929b-08cac498bf82",
   "metadata": {},
   "source": [
    "-----\n"
   ]
  },
  {
   "cell_type": "markdown",
   "id": "6710d704-7a2c-4eb5-b28f-c52834908770",
   "metadata": {},
   "source": [
    "#### Install needed library\n"
   ]
  },
  {
   "cell_type": "code",
   "execution_count": null,
   "id": "f5b5f18a-2a73-427f-88c4-3267bf1cc945",
   "metadata": {},
   "outputs": [],
   "source": [
    "!pip install pandas"
   ]
  },
  {
   "cell_type": "markdown",
   "id": "5487051f-ccad-4a05-b848-f416bb2ccb66",
   "metadata": {},
   "source": [
    "### Step 1: Import Required Libraries\n"
   ]
  },
  {
   "cell_type": "code",
   "execution_count": 1,
   "id": "188a365e-9df7-4238-80b2-d15e279ac133",
   "metadata": {},
   "outputs": [],
   "source": [
    "import pandas as pd"
   ]
  },
  {
   "cell_type": "markdown",
   "id": "a0266776-f4e9-4690-b57d-1694af0619aa",
   "metadata": {},
   "source": [
    "### Step 2: Load the Dataset Into a Dataframe\n"
   ]
  },
  {
   "cell_type": "markdown",
   "id": "64e7a616-9a52-4854-b846-256b0ee941fb",
   "metadata": {},
   "source": [
    "#### **Read Data**\n",
    "<p>\n",
    "The functions below will download the dataset into your browser:\n",
    "</p>\n"
   ]
  },
  {
   "cell_type": "code",
   "execution_count": 4,
   "id": "29cfa626-8226-463a-9e93-4f2c2d333e23",
   "metadata": {},
   "outputs": [
    {
     "name": "stdout",
     "output_type": "stream",
     "text": [
      "   ResponseId                      MainBranch                 Age  \\\n",
      "0           1  I am a developer by profession  Under 18 years old   \n",
      "1           2  I am a developer by profession     35-44 years old   \n",
      "2           3  I am a developer by profession     45-54 years old   \n",
      "3           4           I am learning to code     18-24 years old   \n",
      "4           5  I am a developer by profession     18-24 years old   \n",
      "\n",
      "            Employment RemoteWork   Check  \\\n",
      "0  Employed, full-time     Remote  Apples   \n",
      "1  Employed, full-time     Remote  Apples   \n",
      "2  Employed, full-time     Remote  Apples   \n",
      "3   Student, full-time        NaN  Apples   \n",
      "4   Student, full-time        NaN  Apples   \n",
      "\n",
      "                                    CodingActivities  \\\n",
      "0                                              Hobby   \n",
      "1  Hobby;Contribute to open-source projects;Other...   \n",
      "2  Hobby;Contribute to open-source projects;Other...   \n",
      "3                                                NaN   \n",
      "4                                                NaN   \n",
      "\n",
      "                                             EdLevel  \\\n",
      "0                          Primary/elementary school   \n",
      "1       Bachelor’s degree (B.A., B.S., B.Eng., etc.)   \n",
      "2    Master’s degree (M.A., M.S., M.Eng., MBA, etc.)   \n",
      "3  Some college/university study without earning ...   \n",
      "4  Secondary school (e.g. American high school, G...   \n",
      "\n",
      "                                           LearnCode  \\\n",
      "0                             Books / Physical media   \n",
      "1  Books / Physical media;Colleague;On the job tr...   \n",
      "2  Books / Physical media;Colleague;On the job tr...   \n",
      "3  Other online resources (e.g., videos, blogs, f...   \n",
      "4  Other online resources (e.g., videos, blogs, f...   \n",
      "\n",
      "                                     LearnCodeOnline  ... JobSatPoints_6  \\\n",
      "0                                                NaN  ...            NaN   \n",
      "1  Technical documentation;Blogs;Books;Written Tu...  ...            0.0   \n",
      "2  Technical documentation;Blogs;Books;Written Tu...  ...            NaN   \n",
      "3  Stack Overflow;How-to videos;Interactive tutorial  ...            NaN   \n",
      "4  Technical documentation;Blogs;Written Tutorial...  ...            NaN   \n",
      "\n",
      "  JobSatPoints_7 JobSatPoints_8 JobSatPoints_9 JobSatPoints_10  \\\n",
      "0            NaN            NaN            NaN             NaN   \n",
      "1            0.0            0.0            0.0             0.0   \n",
      "2            NaN            NaN            NaN             NaN   \n",
      "3            NaN            NaN            NaN             NaN   \n",
      "4            NaN            NaN            NaN             NaN   \n",
      "\n",
      "  JobSatPoints_11           SurveyLength SurveyEase ConvertedCompYearly JobSat  \n",
      "0             NaN                    NaN        NaN                 NaN    NaN  \n",
      "1             0.0                    NaN        NaN                 NaN    NaN  \n",
      "2             NaN  Appropriate in length       Easy                 NaN    NaN  \n",
      "3             NaN               Too long       Easy                 NaN    NaN  \n",
      "4             NaN              Too short       Easy                 NaN    NaN  \n",
      "\n",
      "[5 rows x 114 columns]\n"
     ]
    }
   ],
   "source": [
    "file_path = \"https://cf-courses-data.s3.us.cloud-object-storage.appdomain.cloud/VYPrOu0Vs3I0hKLLjiPGrA/survey-data-with-duplicate.csv\"\n",
    "df = pd.read_csv(file_path)\n",
    "\n",
    "# Display the first few rows to ensure it loaded correctly\n",
    "print(df.head())"
   ]
  },
  {
   "cell_type": "markdown",
   "id": "87ba2b4b-aa12-467d-8397-f2092dd5ce2d",
   "metadata": {},
   "source": [
    "### Step 3. Finding and Removing Duplicates\n",
    "##### Task 1: Identify duplicate rows in the dataset.\n"
   ]
  },
  {
   "cell_type": "code",
   "execution_count": null,
   "id": "a7c2b5aa-6bca-4ea2-80ea-834b7f0e7f50",
   "metadata": {},
   "outputs": [
    {
     "data": {
      "text/plain": [
       "np.int64(20)"
      ]
     },
     "execution_count": 5,
     "metadata": {},
     "output_type": "execute_result"
    }
   ],
   "source": [
    "## Write your code here\n",
    "print(f\"Duplicates before removal : {df.duplicated().sum()}\")"
   ]
  },
  {
   "cell_type": "markdown",
   "id": "e9572ce8-3716-4acf-aaff-d6531a16693d",
   "metadata": {},
   "source": [
    "##### Task 2: Remove the duplicate rows from the dataframe.\n",
    "\n"
   ]
  },
  {
   "cell_type": "code",
   "execution_count": 6,
   "id": "8612b6bc-feab-42b0-9072-562d9d7ffa50",
   "metadata": {},
   "outputs": [],
   "source": [
    "## Write your code here\n",
    "df.drop_duplicates(keep='first', inplace=True)"
   ]
  },
  {
   "cell_type": "code",
   "execution_count": 7,
   "metadata": {},
   "outputs": [
    {
     "name": "stdout",
     "output_type": "stream",
     "text": [
      "Duplicates after removal : 0\n"
     ]
    }
   ],
   "source": [
    "print(f\"Duplicates after removal : {df.duplicated().sum()}\")"
   ]
  },
  {
   "cell_type": "markdown",
   "id": "a618ea68-6987-4637-90c3-cb4fe75903c5",
   "metadata": {},
   "source": [
    "### Step 4: Finding Missing Values\n",
    "##### Task 3: Find the missing values for all columns.\n"
   ]
  },
  {
   "cell_type": "code",
   "execution_count": 9,
   "id": "02d297a0-d346-4cf1-a611-abbaa9b122f4",
   "metadata": {},
   "outputs": [
    {
     "name": "stdout",
     "output_type": "stream",
     "text": [
      "The number of missing rows in each column: \n"
     ]
    },
    {
     "data": {
      "text/plain": [
       "ResponseId                            0\n",
       "MainBranch                            0\n",
       "Age                                   0\n",
       "Employment                            0\n",
       "RemoteWork                        10631\n",
       "Check                                 0\n",
       "CodingActivities                  10971\n",
       "EdLevel                            4653\n",
       "LearnCode                          4949\n",
       "LearnCodeOnline                   16200\n",
       "TechDoc                           24540\n",
       "YearsCode                          5568\n",
       "YearsCodePro                      13827\n",
       "DevType                            5992\n",
       "OrgSize                           17957\n",
       "PurchaseInfluence                 18031\n",
       "BuyNewTool                        20256\n",
       "BuildvsBuy                        22079\n",
       "TechEndorse                       21769\n",
       "Country                            6507\n",
       "Currency                          18753\n",
       "CompTotal                         31697\n",
       "LanguageHaveWorkedWith             5692\n",
       "LanguageWantToWorkWith             9685\n",
       "LanguageAdmired                   14565\n",
       "DatabaseHaveWorkedWith            15183\n",
       "DatabaseWantToWorkWith            22879\n",
       "DatabaseAdmired                   26880\n",
       "PlatformHaveWorkedWith            23071\n",
       "PlatformWantToWorkWith            30905\n",
       "PlatformAdmired                   34060\n",
       "WebframeHaveWorkedWith            20276\n",
       "WebframeWantToWorkWith            26902\n",
       "WebframeAdmired                   30494\n",
       "EmbeddedHaveWorkedWith            43223\n",
       "EmbeddedWantToWorkWith            47837\n",
       "EmbeddedAdmired                   48704\n",
       "MiscTechHaveWorkedWith            25994\n",
       "MiscTechWantToWorkWith            32473\n",
       "MiscTechAdmired                   35841\n",
       "ToolsTechHaveWorkedWith           12955\n",
       "ToolsTechWantToWorkWith           19353\n",
       "ToolsTechAdmired                  21440\n",
       "NEWCollabToolsHaveWorkedWith       7845\n",
       "NEWCollabToolsWantToWorkWith      13350\n",
       "NEWCollabToolsAdmired             14726\n",
       "OpSysPersonal use                  7263\n",
       "OpSysProfessional use             12464\n",
       "OfficeStackAsyncHaveWorkedWith    17344\n",
       "OfficeStackAsyncWantToWorkWith    26471\n",
       "OfficeStackAsyncAdmired           28233\n",
       "OfficeStackSyncHaveWorkedWith      9892\n",
       "OfficeStackSyncWantToWorkWith     18726\n",
       "OfficeStackSyncAdmired            20725\n",
       "AISearchDevHaveWorkedWith         20984\n",
       "AISearchDevWantToWorkWith         28736\n",
       "AISearchDevAdmired                29894\n",
       "NEWSOSites                         5151\n",
       "SOVisitFreq                        5901\n",
       "SOAccount                          5877\n",
       "SOPartFreq                        20200\n",
       "SOHow                              6475\n",
       "SOComm                             6274\n",
       "AISelect                           4530\n",
       "AISent                            19564\n",
       "AIBen                             28543\n",
       "AIAcc                             28135\n",
       "AIComplex                         28416\n",
       "AIToolCurrently Using             30365\n",
       "AIToolInterested in Using         34746\n",
       "AIToolNot interested in Using     41023\n",
       "AINextMuch more integrated        51999\n",
       "AINextNo change                   52939\n",
       "AINextMore integrated             41009\n",
       "AINextLess integrated             63082\n",
       "AINextMuch less integrated        64289\n",
       "AIThreat                          20748\n",
       "AIEthics                          23889\n",
       "AIChallenges                      27906\n",
       "TBranch                           20960\n",
       "ICorPM                            35636\n",
       "WorkExp                           35779\n",
       "Knowledge_1                       36773\n",
       "Knowledge_2                       37416\n",
       "Knowledge_3                       37342\n",
       "Knowledge_4                       37407\n",
       "Knowledge_5                       37557\n",
       "Knowledge_6                       37573\n",
       "Knowledge_7                       37659\n",
       "Knowledge_8                       37679\n",
       "Knowledge_9                       37802\n",
       "Frequency_1                       37068\n",
       "Frequency_2                       37073\n",
       "Frequency_3                       37727\n",
       "TimeSearching                     36526\n",
       "TimeAnswering                     36593\n",
       "Frustration                       37186\n",
       "ProfessionalTech                  37673\n",
       "ProfessionalCloud                 36946\n",
       "ProfessionalQuestion              36630\n",
       "Industry                          36579\n",
       "JobSatPoints_1                    36113\n",
       "JobSatPoints_4                    36044\n",
       "JobSatPoints_5                    36026\n",
       "JobSatPoints_6                    35987\n",
       "JobSatPoints_7                    35989\n",
       "JobSatPoints_8                    35981\n",
       "JobSatPoints_9                    35981\n",
       "JobSatPoints_10                   35987\n",
       "JobSatPoints_11                   35992\n",
       "SurveyLength                       9255\n",
       "SurveyEase                         9199\n",
       "ConvertedCompYearly               42002\n",
       "JobSat                            36311\n",
       "dtype: int64"
      ]
     },
     "execution_count": 9,
     "metadata": {},
     "output_type": "execute_result"
    }
   ],
   "source": [
    "## Write your code here\n",
    "\n",
    "pd.set_option('display.max_rows', None)\n",
    "print(\"The number of missing rows in each column: \")\n",
    "df.isnull().sum()"
   ]
  },
  {
   "cell_type": "markdown",
   "id": "18019a73-81cc-46de-99e8-cf49fe7e936d",
   "metadata": {},
   "source": [
    "##### Task 4: Find out how many rows are missing in the column RemoteWork.\n"
   ]
  },
  {
   "cell_type": "code",
   "execution_count": 10,
   "id": "b5f3e1ae-c149-4a84-8b78-dea41444dfae",
   "metadata": {},
   "outputs": [
    {
     "name": "stdout",
     "output_type": "stream",
     "text": [
      "The number of missing rows in column 'RemoteWork': 10631\n"
     ]
    }
   ],
   "source": [
    "## Write your code here\n",
    "print(f\"The number of missing rows in column 'RemoteWork': {df[\"RemoteWork\"].isnull().sum()}\")"
   ]
  },
  {
   "cell_type": "markdown",
   "id": "3f499b03-1e74-4e7b-ab3f-13e825d45336",
   "metadata": {},
   "source": [
    "### Step 5. Imputing Missing Values\n",
    "##### Task 5: Find the value counts for the column RemoteWork.\n"
   ]
  },
  {
   "cell_type": "code",
   "execution_count": 11,
   "id": "d5d5fd16-8b03-4f3b-9443-88d1ed8d351c",
   "metadata": {},
   "outputs": [
    {
     "name": "stdout",
     "output_type": "stream",
     "text": [
      "The value counts for column 'RemoteWork': \n"
     ]
    },
    {
     "data": {
      "text/plain": [
       "RemoteWork\n",
       "Hybrid (some remote, some in-person)    23015\n",
       "Remote                                  20831\n",
       "In-person                               10960\n",
       "Name: count, dtype: int64"
      ]
     },
     "execution_count": 11,
     "metadata": {},
     "output_type": "execute_result"
    }
   ],
   "source": [
    "## Write your code here\n",
    "print(\"The value counts for column 'RemoteWork': \")\n",
    "df[\"RemoteWork\"].value_counts()"
   ]
  },
  {
   "cell_type": "markdown",
   "id": "7323936a-5465-4434-ba48-1d0a24eb263c",
   "metadata": {},
   "source": [
    "##### Task 6: Identify the most frequent (majority) value in the RemoteWork column.\n",
    "\n"
   ]
  },
  {
   "cell_type": "code",
   "execution_count": 12,
   "id": "bea2746f-1cf9-421e-a3f7-b69fa6464076",
   "metadata": {},
   "outputs": [
    {
     "name": "stdout",
     "output_type": "stream",
     "text": [
      "The most frequent value in 'RemoteWork': Hybrid (some remote, some in-person)\n"
     ]
    }
   ],
   "source": [
    "## Write your code here\n",
    "most_freq_RemoteWork = df[\"RemoteWork\"].value_counts().idxmax()\n",
    "print(f\"The most frequent value in 'RemoteWork': {most_freq_RemoteWork}\")"
   ]
  },
  {
   "cell_type": "markdown",
   "id": "c0210577-6fc7-4e52-8fad-f84835da0956",
   "metadata": {},
   "source": [
    "##### Task 7: Impute (replace) all the empty rows in the column RemoteWork with the majority value.\n",
    "\n"
   ]
  },
  {
   "cell_type": "code",
   "execution_count": 13,
   "id": "5d91447d-834b-4bb6-8fa5-57b88c8eaa13",
   "metadata": {},
   "outputs": [
    {
     "name": "stdout",
     "output_type": "stream",
     "text": [
      "The number of missing rows in column 'RemoteWork' after imputation: 0\n"
     ]
    }
   ],
   "source": [
    "## Write your code here\n",
    "df[\"RemoteWork\"] = df[\"RemoteWork\"].fillna(most_freq_RemoteWork)\n",
    "\n",
    "print(f\"The number of missing rows in column 'RemoteWork' after imputation: {df[\"RemoteWork\"].isnull().sum()}\")"
   ]
  },
  {
   "cell_type": "markdown",
   "id": "d9b3b12d-d8b7-4502-b6a3-d721207c0ca3",
   "metadata": {},
   "source": [
    "##### Task 8: Check for any compensation-related columns and describe their distribution.\n",
    "\n"
   ]
  },
  {
   "cell_type": "code",
   "execution_count": 15,
   "id": "9e258f23-dc60-4495-badb-102a1bb5d26b",
   "metadata": {},
   "outputs": [
    {
     "data": {
      "text/plain": [
       "['CompTotal', 'AIComplex', 'ConvertedCompYearly']"
      ]
     },
     "execution_count": 15,
     "metadata": {},
     "output_type": "execute_result"
    }
   ],
   "source": [
    "## Write your code here\n",
    "keywords = [\"Comp\", \"Salary\", \"Income\"]\n",
    "\n",
    "compensation_columns = [col for col in df.columns if any(word in col for word in keywords)]\n",
    "compensation_columns"
   ]
  },
  {
   "cell_type": "code",
   "execution_count": 20,
   "metadata": {},
   "outputs": [
    {
     "data": {
      "image/png": "[encoded data removed]",
      "text/plain": [
       "<Figure size 1500x600 with 2 Axes>"
      ]
     },
     "metadata": {},
     "output_type": "display_data"
    }
   ],
   "source": [
    "# Distribution of CompTotal and ConvertedCompYearly\n",
    "\n",
    "import matplotlib.pyplot as plt\n",
    "\n",
    "plt.figure(figsize=(15,6))\n",
    "plt.subplot(1,2,1)\n",
    "plt.hist(df[\"CompTotal\"], bins=5, color='lightgreen', edgecolor='black')\n",
    "plt.title(\"Distribution of CompTotal\")\n",
    "plt.xlabel(\"CompTotal\")\n",
    "plt.ylabel(\"Frequency\")\n",
    "\n",
    "plt.subplot(1,2,2)\n",
    "plt.hist(df[\"ConvertedCompYearly\"], bins=5, color='skyblue', edgecolor = 'black')\n",
    "plt.title(\"Distribution of ConvertedCompYearly\")\n",
    "plt.xlabel(\"ConvertedCompYearly\")\n",
    "plt.ylabel(\"Frequency\")\n",
    "\n",
    "plt.show()"
   ]
  },
  {
   "cell_type": "markdown",
   "id": "ba442929-13cc-4420-aff3-2659ed8b4baa",
   "metadata": {},
   "source": [
    "### Summary \n"
   ]
  },
  {
   "cell_type": "markdown",
   "id": "856431bf-53ef-449a-bd58-25105598e17f",
   "metadata": {},
   "source": [
    "**In this lab, you focused on imputing missing values in the dataset.**\n",
    "\n",
    "- Use the <code>pandas.read_csv()</code> function to load a dataset from a CSV file into a DataFrame.\n",
    "\n",
    "- Download the dataset if it's not available online and specify the correct file path.\n",
    "\n"
   ]
  },
  {
   "cell_type": "markdown",
   "id": "b61dfe67-834d-456d-b6c9-83d09c87fa2f",
   "metadata": {},
   "source": [
    "<!--\n",
    "## Change Log\n",
    "|Date (YYYY-MM-DD)|Version|Changed By|Change Description|\n",
    "|-|-|-|-|\n",
    "|2024-11-05|1.3|Madhusudhan Moole|Updated lab|\n",
    "|2024-10-29|1.2|Madhusudhan Moole|Updated lab|\n",
    "|2024-09-27|1.1|Madhusudhan Moole|Updated lab|\n",
    "|2024-09-26|1.0|Raghul Ramesh|Created lab|\n",
    "--!>\n"
   ]
  },
  {
   "cell_type": "markdown",
   "id": "499fc479-e7da-41aa-b41b-6c8ba5ee57d9",
   "metadata": {},
   "source": [
    "Copyright © IBM Corporation. All rights reserved.\n"
   ]
  }
 ],
 "metadata": {
  "kernelspec": {
   "display_name": "Python 3",
   "language": "python",
   "name": "python3"
  },
  "language_info": {
   "codemirror_mode": {
    "name": "ipython",
    "version": 3
   },
   "file_extension": ".py",
   "mimetype": "text/x-python",
   "name": "python",
   "nbconvert_exporter": "python",
   "pygments_lexer": "ipython3",
   "version": "3.13.1"
  },
  "prev_pub_hash": "70ab641719bca2be0bdcb38f6a8b5de7851b6e9c28d41b9407096c62e74916a6"
 },
 "nbformat": 4,
 "nbformat_minor": 4
}
